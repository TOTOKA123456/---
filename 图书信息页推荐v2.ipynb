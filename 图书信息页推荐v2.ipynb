{
 "cells": [
  {
   "cell_type": "code",
   "execution_count": 1,
   "metadata": {
    "collapsed": true
   },
   "outputs": [],
   "source": [
    "import pandas as pd\n",
    "from py2neo import Graph\n",
    "import numpy as np\n",
    "import itertools"
   ]
  },
  {
   "cell_type": "code",
   "execution_count": 2,
   "metadata": {
    "collapsed": true
   },
   "outputs": [],
   "source": [
    "#py2neo连接图数据库\n",
    "lib_graph = Graph(\n",
    "    \"http://localhost:7474\",\n",
    "    username=\"neo4j\",\n",
    "    password=\"neo4j\"\n",
    ")"
   ]
  },
  {
   "cell_type": "markdown",
   "metadata": {},
   "source": [
    "# 策略1-同作者其他书籍"
   ]
  },
  {
   "cell_type": "code",
   "execution_count": 28,
   "metadata": {},
   "outputs": [],
   "source": [
    "def get_Rec_Author(ISBN):\n",
    "    book = ISBN\n",
    "    df1 = lib_graph.run(\"match (a:BOOK)<-[r1:write]-(b:Author)-[r2:write]->(c:BOOK) where a.ISBN = {param} and c <> a return c.ISBN, c.TITLE, c.TOTAL_CIRC\", param = book).to_data_frame()\n",
    "    if df1.empty:    # 如果改书作者没有其他的书\n",
    "        return df1\n",
    "    df1 = df1.drop_duplicates()\n",
    "    book_df1 = df1.rename(columns={'c.ISBN':'ISBN', 'c.TITLE':'TITLE', 'c.TOTAL_CIRC':'TOTAL_CIRC'}, index=None)\n",
    "    book_df1 = book_df1.sort_values(by='TOTAL_CIRC', ascending=False) # 降序排序\n",
    "    book_df1.index = range(len(book_df1))\n",
    "    return book_df1"
   ]
  },
  {
   "cell_type": "code",
   "execution_count": 30,
   "metadata": {},
   "outputs": [
    {
     "name": "stdout",
     "output_type": "stream",
     "text": [
      "            ISBN           TITLE  TOTAL_CIRC\n",
      "0  7-204-04442-8           永在的温情        1255\n",
      "1  7-5387-1220-8           苏曼殊作品         706\n",
      "2  7-5387-0272-5            鲜血梅花         604\n",
      "3  7-80114-210-1     林语堂散文经典全编.1         587\n",
      "4  7-80590-208-9            武则天传         328\n",
      "5  7-5613-2821-4            品味人生         305\n",
      "6  7-5613-2364-6            女性人生         300\n",
      "7  7-5600-1421-6     生活的艺术:[英文版]         288\n",
      "8  7-5404-0297-0  人生的盛宴:林语堂人生随笔集         222\n",
      "9  7-5613-2537-1             红牡丹         201\n"
     ]
    }
   ],
   "source": [
    "if __name__ == '__main__':\n",
    "    ISBN = '978-7-5399-3244-6'\n",
    "    res = get_Rec_Author(ISBN)\n",
    "    print(res[:10])"
   ]
  },
  {
   "cell_type": "markdown",
   "metadata": {},
   "source": [
    "# 策略2-目标读者到目标书籍最短路径读者的阅读书目"
   ]
  },
  {
   "cell_type": "code",
   "execution_count": 31,
   "metadata": {
    "collapsed": true
   },
   "outputs": [],
   "source": [
    "# 找到所有最短路上的人，给出推荐\n",
    "def getRec_path_people(name1, book1):\n",
    "    name = name1\n",
    "    book = book1\n",
    "    df1 = lib_graph.run(\"match (a:Reader), (b:BOOK), p = allShortestPaths((a)-[*]-(b)), (c:Reader)  where a.NAME={param1} and b.ISBN={param2} and (c in nodes(p)) and c <> a return distinct c.CERT_ID, c.NAME, c.TOTAL_LEND_QTY\", param1=name, param2=book).to_data_frame()\n",
    "    df1_list = np.array(df1['c.CERT_ID']).tolist()\n",
    "    rec_list = pd.DataFrame(columns=['b.ISBN', 'b.TITLE', 'r.LEND_DATE'])\n",
    "    for item in df1_list:\n",
    "        data1 = lib_graph.run(\"match (a:Reader)-[r]->(b:BOOK) where a.CERT_ID={param3} return b.ISBN, b.TITLE, r.LEND_DATE order by r.LEND_DATE desc\", param3=item).to_data_frame()\n",
    "        if data1.empty == False:\n",
    "            result = rec_list.append(data1)\n",
    "            rec_list = result\n",
    "    df2 = rec_list.drop_duplicates()\n",
    "    person_df2 = df2.rename(columns={'b.ISBN': 'ISBN', 'b.TITLE': 'TITLE', 'r.LEND_DATE': 'LEND_DATE'})\n",
    "    person_df2 = person_df2.sort_values(by='LEND_DATE', ascending=False) # 降序排序\n",
    "    person_df2.index = range(len(person_df2))\n",
    "    return person_df2"
   ]
  },
  {
   "cell_type": "code",
   "execution_count": 32,
   "metadata": {},
   "outputs": [
    {
     "name": "stdout",
     "output_type": "stream",
     "text": [
      "                                ISBN  \\\n",
      "0                  978-7-5123-9396-7   \n",
      "1                  978-7-121-30010-3   \n",
      "2                  978-7-111-55294-9   \n",
      "3                  978-7-03-045711-0   \n",
      "4                  978-7-115-40309-4   \n",
      "5                  978-7-5432-2605-0   \n",
      "6                  978-7-111-52354-3   \n",
      "7                  978-7-115-43220-9   \n",
      "8                  978-7-115-38428-7   \n",
      "9   978-7-111-19989-2, 7-89482-079-2   \n",
      "10                 978-7-302-42328-7   \n",
      "11                 978-7-115-42057-2   \n",
      "12                 978-7-111-53845-5   \n",
      "13                 978-7-111-44514-2   \n",
      "14                 978-7-03-027494-6   \n",
      "15                     7-302-12505-8   \n",
      "16                 978-7-115-40609-5   \n",
      "17                 978-7-5399-6300-6   \n",
      "18                     7-302-12505-8   \n",
      "19                 978-7-302-27595-4   \n",
      "20                 978-7-115-40709-2   \n",
      "21                 978-7-115-40309-4   \n",
      "22                 978-7-111-49468-3   \n",
      "23                 978-7-302-16709-9   \n",
      "24                 978-7-5429-4223-4   \n",
      "25                 978-7-302-23183-7   \n",
      "26                 978-7-5117-2636-0   \n",
      "\n",
      "                                                TITLE   LEND_DATE  \n",
      "0                                           轻量级Django  2018-01-15  \n",
      "1           Python高效开发实战:Django、Tornado、Flask、Twisted  2018-01-15  \n",
      "2   大数据系统构建:可扩展实时数据系统构建原理与最佳实践:principles and best...  2017-09-21  \n",
      "3                                               能源互联网  2017-09-21  \n",
      "4                                        Spark快速大数据分析  2017-09-21  \n",
      "5                                                营销管理  2017-09-11  \n",
      "6                                      Spark核心技术与高级应用  2017-09-11  \n",
      "7                                        Python数据分析实战  2017-09-11  \n",
      "8                                贝叶斯思维:统计建模的Python学习法  2017-06-29  \n",
      "9   Java程序设计:对象和软件工程方法:introduction to programming...  2017-06-13  \n",
      "10                                               机器学习  2017-05-17  \n",
      "11                                              R语言实战  2017-03-02  \n",
      "12                             数据结构与算法经典问题解析:Java语言描述  2017-01-14  \n",
      "13             Java核心技术.卷Ⅰ,基础知识.Volume I,Fundamentals  2017-01-14  \n",
      "14                               城市交通系统复杂性:复杂网络方法及其应用  2016-12-23  \n",
      "15                                         复杂网络理论及其应用  2016-12-23  \n",
      "16                                           Java技术手册  2016-12-05  \n",
      "17                                              音乐的故事  2016-10-09  \n",
      "18                                         复杂网络理论及其应用  2016-10-09  \n",
      "19                                             统计学习方法  2016-09-18  \n",
      "20                                       Python语言及其应用  2016-09-08  \n",
      "21                                       Spark快速大数据分析  2016-09-08  \n",
      "22                                         Hadoop核心技术  2016-09-08  \n",
      "23                                              演讲的艺术  2016-03-25  \n",
      "24                                     卡耐基口才的艺术与情绪掌控术  2016-03-25  \n",
      "25                                             物联网大趋势  2016-03-01  \n",
      "26  21世纪生态经济学:redirecting the environment and a su...  2016-03-01  \n"
     ]
    }
   ],
   "source": [
    "if __name__ == '__main__':\n",
    "    name1 = '谢泽宇'\n",
    "    book1 = '978-7-302-42328-7'\n",
    "    res = getRec_path_people(name1, book1)\n",
    "    print(res)"
   ]
  },
  {
   "cell_type": "markdown",
   "metadata": {},
   "source": [
    "# 策略3-目标书籍的前十名读者的其他共同阅读书目"
   ]
  },
  {
   "cell_type": "code",
   "execution_count": 16,
   "metadata": {
    "collapsed": true
   },
   "outputs": [],
   "source": [
    "def getRec_book(book1):\n",
    "    book = book1\n",
    "    df_peo = lib_graph.run(\"match (a:BOOK)<-[r1]-(b:Reader) where a.ISBN = {param1} return distinct b.CERT_ID, b.NAME, b.TOTAL_LEND_QTY order by b.TOTAL_LEND_QTY desc limit 10\", param1 = book).to_data_frame()\n",
    "    people_list = np.array(df_peo['b.CERT_ID']).tolist()\n",
    "    people_list2 = list(itertools.combinations(people_list, 2)) # 排列组合\n",
    "    rec_list = pd.DataFrame(columns=['b1.ISBN', 'b1.TITLE', 'b1.TOTAL_CIRC'])\n",
    "    for item in people_list2:\n",
    "        param1 = item[0]\n",
    "        param2 = item[1]\n",
    "        data1 = lib_graph.run(\n",
    "            \"match p = (a:Reader)-[r1]->(b1:BOOK)<-[r2]-(b:Reader) where b.CERT_ID={people1} and a.CERT_ID={people2} return b1.ISBN, b1.TITLE, b1.TOTAL_CIRC\",\n",
    "            people1=param1, people2=param2).to_data_frame()\n",
    "        if data1.empty == False:\n",
    "            result = rec_list.append(data1)\n",
    "            rec_list = result\n",
    "    df2 = rec_list.drop_duplicates()\n",
    "    person_df2 = df2.rename(columns={'b1.ISBN': 'ISBN', 'b1.TITLE': 'TITLE', 'b1.TOTAL_CIRC': 'TOTAL_CIRC'})\n",
    "    person_df2 = person_df2.sort_values(by='TOTAL_CIRC', ascending=False) # 降序排序\n",
    "    person_df2.index = range(len(person_df2))\n",
    "    return person_df2\n",
    "    # 感觉需要根据类别做筛选"
   ]
  },
  {
   "cell_type": "code",
   "execution_count": 18,
   "metadata": {},
   "outputs": [
    {
     "name": "stdout",
     "output_type": "stream",
     "text": [
      "                 ISBN         TITLE TOTAL_CIRC\n",
      "0       7-04-006697-1          振动力学        348\n",
      "1       7-302-02368-9     数据结构:C语言版        261\n",
      "2       7-5053-9115-1       有限元方法编程        231\n",
      "3       7-111-07585-4        神经网络设计        216\n",
      "4   978-7-5641-0873-1    工程塑性力学-修订版         95\n",
      "5   978-7-03-020082-2          密码传奇         77\n",
      "6   978-7-111-32653-3    Python学习手册         51\n",
      "7   978-7-302-27595-4        统计学习方法         39\n",
      "8   978-7-115-40709-2  Python语言及其应用         22\n",
      "9   978-7-302-42328-7          机器学习         18\n",
      "10  978-7-302-43696-6    Django开发宝典         11\n"
     ]
    }
   ],
   "source": [
    "if __name__ == '__main__':\n",
    "    book1 = '978-7-302-42328-7'\n",
    "    res = getRec_book(book1)\n",
    "    print(res)"
   ]
  },
  {
   "cell_type": "code",
   "execution_count": null,
   "metadata": {
    "collapsed": true
   },
   "outputs": [],
   "source": []
  }
 ],
 "metadata": {
  "kernelspec": {
   "display_name": "Python [conda env:Anaconda3]",
   "language": "python",
   "name": "conda-env-Anaconda3-py"
  },
  "language_info": {
   "codemirror_mode": {
    "name": "ipython",
    "version": 3
   },
   "file_extension": ".py",
   "mimetype": "text/x-python",
   "name": "python",
   "nbconvert_exporter": "python",
   "pygments_lexer": "ipython3",
   "version": "3.6.6"
  }
 },
 "nbformat": 4,
 "nbformat_minor": 2
}
